{
 "cells": [
  {
   "cell_type": "markdown",
   "id": "3cbcad09",
   "metadata": {},
   "source": [
    "# Assignment 1"
   ]
  },
  {
   "cell_type": "code",
   "execution_count": 1,
   "id": "bd645f72",
   "metadata": {},
   "outputs": [
    {
     "name": "stdout",
     "output_type": "stream",
     "text": [
      "Hello Python\n"
     ]
    }
   ],
   "source": [
    "# 1. Write a python program to print \"Hello Python\"\n",
    "print(\"Hello Python\")"
   ]
  },
  {
   "cell_type": "code",
   "execution_count": 4,
   "id": "299e667d",
   "metadata": {},
   "outputs": [
    {
     "name": "stdout",
     "output_type": "stream",
     "text": [
      "Addition:  6 \n",
      "Division:  2.0\n"
     ]
    }
   ],
   "source": [
    "# 2. Write a python program to do arithmetical operations addition and division\n",
    "a=2\n",
    "b=4\n",
    "add= a+b\n",
    "div= b/a\n",
    "print(\"Addition: \", add, \"\\nDivision: \", div)"
   ]
  },
  {
   "cell_type": "code",
   "execution_count": 18,
   "id": "37933765",
   "metadata": {},
   "outputs": [
    {
     "name": "stdout",
     "output_type": "stream",
     "text": [
      "Enter the type of formula you want to use to calculate Area of Triangle HERON or BASIC: N\n",
      "wrong method\n"
     ]
    }
   ],
   "source": [
    "# 3. Write a python program to find area of a triangle\n",
    "import math\n",
    "method_type= input(\"Enter the type of formula you want to use to calculate Area of Triangle HERON or BASIC: \")\n",
    "\n",
    "if(method_type == 'basic' or method_type == 'Basic' or method_type == 'BASIC'):\n",
    "    a= int(input(\"Enter the base of triangle(in integer): \"))\n",
    "    b=int(input(\"Enter the height of triangle(in integer): \"))\n",
    "    area= .5*a*b\n",
    "    print(\"Area of Triangle is: \", area)\n",
    "\n",
    "elif(method_type == 'heron' or method_type == 'Heron' or method_type == 'HERON'):\n",
    "    a= int(input(\"Enter the 1st of triangle(in integer): \"))\n",
    "    b=int(input(\"Enter the 2nd of triangle(in integer): \"))\n",
    "    c= int(input(\"Enter the 3rd of triangle(in integer): \"))\n",
    "    s= (a+b+c)/2\n",
    "    area= math.sqrt(s*(s-a)*(s-b)*(s-c))\n",
    "    print(\"Area of Triange by Heron's Formula: \", area)\n",
    "    \n",
    "else:\n",
    "    print(\"wrong method\")"
   ]
  },
  {
   "cell_type": "code",
   "execution_count": 19,
   "id": "14bdd660",
   "metadata": {},
   "outputs": [],
   "source": [
    "# 4. Swap two variables\n",
    "a= \"Aakash\"\n",
    "b=\"Sudh\"\n",
    "c=b\n",
    "b=a\n",
    "a=c"
   ]
  },
  {
   "cell_type": "code",
   "execution_count": 20,
   "id": "6cf7d080",
   "metadata": {},
   "outputs": [
    {
     "data": {
      "text/plain": [
       "'Sudh'"
      ]
     },
     "execution_count": 20,
     "metadata": {},
     "output_type": "execute_result"
    }
   ],
   "source": [
    "a\n"
   ]
  },
  {
   "cell_type": "code",
   "execution_count": 21,
   "id": "e393dc4d",
   "metadata": {},
   "outputs": [
    {
     "data": {
      "text/plain": [
       "'Aakash'"
      ]
     },
     "execution_count": 21,
     "metadata": {},
     "output_type": "execute_result"
    }
   ],
   "source": [
    "b"
   ]
  },
  {
   "cell_type": "code",
   "execution_count": 24,
   "id": "4fe1452e",
   "metadata": {},
   "outputs": [
    {
     "data": {
      "text/plain": [
       "0.8171665229315592"
      ]
     },
     "execution_count": 24,
     "metadata": {},
     "output_type": "execute_result"
    }
   ],
   "source": [
    "# 5. Write a python program to generate random numbers\n",
    "import random\n",
    "random.random()"
   ]
  },
  {
   "cell_type": "code",
   "execution_count": null,
   "id": "48855a2c",
   "metadata": {},
   "outputs": [],
   "source": []
  }
 ],
 "metadata": {
  "kernelspec": {
   "display_name": "Python 3",
   "language": "python",
   "name": "python3"
  },
  "language_info": {
   "codemirror_mode": {
    "name": "ipython",
    "version": 3
   },
   "file_extension": ".py",
   "mimetype": "text/x-python",
   "name": "python",
   "nbconvert_exporter": "python",
   "pygments_lexer": "ipython3",
   "version": "3.8.8"
  }
 },
 "nbformat": 4,
 "nbformat_minor": 5
}
