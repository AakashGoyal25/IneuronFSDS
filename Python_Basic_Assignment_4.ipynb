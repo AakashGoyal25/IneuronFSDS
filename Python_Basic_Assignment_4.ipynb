{
 "cells": [
  {
   "cell_type": "markdown",
   "id": "9189193f",
   "metadata": {},
   "source": [
    "# Python Basic Assignment 4"
   ]
  },
  {
   "cell_type": "code",
   "execution_count": 1,
   "id": "2e7edc11",
   "metadata": {},
   "outputs": [
    {
     "name": "stdout",
     "output_type": "stream",
     "text": [
      "Enter number:5\n",
      "Factorial of 5 :  120\n"
     ]
    }
   ],
   "source": [
    "# 1. Write a Python Program to Find the Factorial of a Number?\n",
    "num= int(input(\"Enter number:\"))\n",
    "fact=1\n",
    "for i in range(1, num+1):\n",
    "    fact= fact*i\n",
    "print(\"Factorial of {0} : \".format(num), fact)"
   ]
  },
  {
   "cell_type": "code",
   "execution_count": 2,
   "id": "7294a2db",
   "metadata": {},
   "outputs": [
    {
     "name": "stdout",
     "output_type": "stream",
     "text": [
      "Enter number:5\n",
      "5 * 1 = 5\n",
      "5 * 2 = 10\n",
      "5 * 3 = 15\n",
      "5 * 4 = 20\n",
      "5 * 5 = 25\n",
      "5 * 6 = 30\n",
      "5 * 7 = 35\n",
      "5 * 8 = 40\n",
      "5 * 9 = 45\n",
      "5 * 10 = 50\n"
     ]
    }
   ],
   "source": [
    "# 2. Write a Python Program to Display the multiplication Table?\n",
    "num= int(input(\"Enter number:\"))\n",
    "for i in range(1, 11):\n",
    "    print(\"{0} * {1} = {2}\".format(num, i, i*num))"
   ]
  },
  {
   "cell_type": "code",
   "execution_count": 3,
   "id": "0284e0f4",
   "metadata": {},
   "outputs": [
    {
     "name": "stdout",
     "output_type": "stream",
     "text": [
      "Enter number of terms: 10\n",
      "0\n",
      "1\n",
      "1\n",
      "2\n",
      "3\n",
      "5\n",
      "8\n",
      "13\n",
      "21\n",
      "34\n"
     ]
    }
   ],
   "source": [
    "# 3. Write a Python Program to Print the Fibonacci sequence?\n",
    "num= int(input(\"Enter number of terms: \"))\n",
    "a=0\n",
    "b=1\n",
    "for i in range (num):\n",
    "    print(a)\n",
    "    c=a+b \n",
    "    a=b\n",
    "    b=c\n"
   ]
  },
  {
   "cell_type": "code",
   "execution_count": 21,
   "id": "c7eb2583",
   "metadata": {},
   "outputs": [
    {
     "name": "stdout",
     "output_type": "stream",
     "text": [
      "Enter number to be checked for Armstrong number or not: 153\n",
      "153 is an Armstrong number\n"
     ]
    }
   ],
   "source": [
    "# 4. Write a Python Program to Check Armstrong Number?\n",
    "num= int(input(\"Enter number to be checked for Armstrong number or not: \"))\n",
    "num_list= []\n",
    "num_list.extend(str(num))\n",
    "sq_sum=0\n",
    "for i in num_list:\n",
    "    sq_sum= sq_sum + (int(i))**3\n",
    "if sq_sum== num:\n",
    "    print( \"{0} is an Armstrong number\".format(num) )\n",
    "else:\n",
    "    print( \"{0} is not an Armstrong number\".format(num) )\n"
   ]
  },
  {
   "cell_type": "code",
   "execution_count": 20,
   "id": "16347dbe",
   "metadata": {},
   "outputs": [
    {
     "name": "stdout",
     "output_type": "stream",
     "text": [
      "Enter starting Interval : 200\n",
      "Enter ending Interval : 500\n",
      "370 is an Armstrong number\n",
      "371 is an Armstrong number\n",
      "407 is an Armstrong number\n"
     ]
    }
   ],
   "source": [
    "# 5. Write a Python Program to Find Armstrong Number in an Interval?\n",
    "\n",
    "a=int(input(\"Enter starting Interval : \"))\n",
    "b=int(input(\"Enter ending Interval : \"))\n",
    "\n",
    "for i in range(a,b+1):\n",
    "    num_list1= []\n",
    "    num_list1.extend(str(i))\n",
    "    num_list1.sort()\n",
    "    sq_sum=0\n",
    "    for j in num_list1:\n",
    "        sq_sum= sq_sum + (int(j))**3\n",
    "        if sq_sum == i:\n",
    "            print( \"{0} is an Armstrong number\".format(i))\n",
    "        else:\n",
    "            pass"
   ]
  },
  {
   "cell_type": "code",
   "execution_count": 6,
   "id": "f9067617",
   "metadata": {},
   "outputs": [
    {
     "name": "stdout",
     "output_type": "stream",
     "text": [
      "Enter number of terms fow which sum is required: 10\n",
      "55\n"
     ]
    }
   ],
   "source": [
    "# 6. Write a Python Program to Find the Sum of Natural Numbers?\n",
    "sum=0\n",
    "num= int(input(\"Enter number of terms fow which sum is required: \"))\n",
    "for i in range(num+1):\n",
    "    sum=sum+i\n",
    "print(sum)"
   ]
  }
 ],
 "metadata": {
  "kernelspec": {
   "display_name": "Python 3",
   "language": "python",
   "name": "python3"
  },
  "language_info": {
   "codemirror_mode": {
    "name": "ipython",
    "version": 3
   },
   "file_extension": ".py",
   "mimetype": "text/x-python",
   "name": "python",
   "nbconvert_exporter": "python",
   "pygments_lexer": "ipython3",
   "version": "3.8.8"
  }
 },
 "nbformat": 4,
 "nbformat_minor": 5
}
