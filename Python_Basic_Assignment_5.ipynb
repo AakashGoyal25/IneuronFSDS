{
 "cells": [
  {
   "cell_type": "markdown",
   "id": "d59b82f1",
   "metadata": {},
   "source": [
    "# Python Basic Assignment 5"
   ]
  },
  {
   "cell_type": "markdown",
   "id": "9d6b0e4b",
   "metadata": {},
   "source": [
    "### 1. Write a Python Program to Find LCM?"
   ]
  },
  {
   "cell_type": "code",
   "execution_count": 11,
   "id": "f648d762",
   "metadata": {},
   "outputs": [],
   "source": [
    "def LCM(a,b):\n",
    "    great= max(a,b)\n",
    "    while(True):\n",
    "        if (great%a==0 and great%b==0):\n",
    "            lcm=great\n",
    "            break\n",
    "        great+=1\n",
    "    return lcm"
   ]
  },
  {
   "cell_type": "code",
   "execution_count": 26,
   "id": "3bce81f6",
   "metadata": {},
   "outputs": [
    {
     "name": "stdout",
     "output_type": "stream",
     "text": [
      "Enter 1st Number: 4\n",
      "Enter 2nd Number: 5\n",
      "LCM of 4 and 5 is : 20\n"
     ]
    }
   ],
   "source": [
    "a= int(input(\"Enter 1st Number: \"))\n",
    "b= int(input(\"Enter 2nd Number: \"))\n",
    "x=LCM(a,b)\n",
    "print(\"LCM of {0} and {1} is : {2}\".format(a,b,x))"
   ]
  },
  {
   "cell_type": "markdown",
   "id": "2532453a",
   "metadata": {},
   "source": [
    "### 2. Write a Program to Find HCF ?"
   ]
  },
  {
   "cell_type": "code",
   "execution_count": 21,
   "id": "36b1c765",
   "metadata": {},
   "outputs": [],
   "source": [
    "def HCF(a,b):\n",
    "    if a >0 and b>0:\n",
    "        small= min(a,b)\n",
    "        for i in range(1, small+1):\n",
    "            if (a%i==0 and b%i==0):\n",
    "                hcf=i\n",
    "        return hcf\n",
    "    else:\n",
    "        print(\"Please enter valid numbers\")\n",
    "        "
   ]
  },
  {
   "cell_type": "code",
   "execution_count": 27,
   "id": "cd367684",
   "metadata": {},
   "outputs": [
    {
     "name": "stdout",
     "output_type": "stream",
     "text": [
      "Enter 1st Number: 4\n",
      "Enter 2nd Number: 5\n",
      "HCF of 4 and 5 is : 1\n"
     ]
    }
   ],
   "source": [
    "a= int(input(\"Enter 1st Number: \"))\n",
    "b= int(input(\"Enter 2nd Number: \"))\n",
    "x=HCF(a,b)\n",
    "print(\"HCF of {0} and {1} is : {2}\".format(a,b,x))"
   ]
  },
  {
   "cell_type": "markdown",
   "id": "eb3e1d69",
   "metadata": {},
   "source": [
    "### 3. Write a Python Program to Convert Decimal to Binary, Octal and Hexadecimal?"
   ]
  },
  {
   "cell_type": "code",
   "execution_count": 15,
   "id": "b98d3585",
   "metadata": {},
   "outputs": [],
   "source": [
    "import math\n",
    "def convert_decimal(num, toc):\n",
    "    y=\"\"\n",
    "    if toc.lower() == \"binary\":  \n",
    "        while num!=0:\n",
    "            x=num%2\n",
    "            num=math.floor(num/2)\n",
    "            y=y+ str(x)\n",
    "        return (y[::-1])\n",
    "    elif toc.lower()== \"octal\":\n",
    "        while num!=0:\n",
    "            x=num%8\n",
    "            num=math.floor(num/8)\n",
    "            y=y+ str(x)\n",
    "        return (y[::-1])\n",
    "        \n",
    "    elif toc.lower()== \"hexadecimal\":\n",
    "        d={10: \"A\", 11:\"B\", 12: \"C\", 13: \"D\", 14:\"E\", 15:\"F\"}\n",
    "        while num!=0:\n",
    "            x=num%16\n",
    "            num=math.floor(num/16)\n",
    "            if x>9:\n",
    "                y=y+ d[x]\n",
    "            else: \n",
    "                 y=y+ str(x)\n",
    "        return (y[::-1])\n",
    "        \n",
    "    else: print(\"Invalid Conversion type\")"
   ]
  },
  {
   "cell_type": "code",
   "execution_count": 16,
   "id": "52ad3190",
   "metadata": {},
   "outputs": [
    {
     "name": "stdout",
     "output_type": "stream",
     "text": [
      "Enter Number: 479\n",
      "Enter typeof conversion binary, Octal or Hexadecimal: Hexadecimal\n",
      "Conversion of 479 from Decimal to Hexadecimal is : 1DF\n"
     ]
    }
   ],
   "source": [
    "a= int(input(\"Enter Number: \"))\n",
    "b= input(\"Enter typeof conversion binary, Octal or Hexadecimal: \")\n",
    "x=convert_decimal(a,b)\n",
    "print(\"Conversion of {0} from Decimal to {1} is : {2}\".format(a,b,x))"
   ]
  },
  {
   "cell_type": "markdown",
   "id": "89eb7bf0",
   "metadata": {},
   "source": [
    "### 4. Write a Python Program To Find ASCII value of a character?"
   ]
  },
  {
   "cell_type": "code",
   "execution_count": 14,
   "id": "95292f23",
   "metadata": {},
   "outputs": [
    {
     "name": "stdout",
     "output_type": "stream",
     "text": [
      "Enter a character to knowits ASCII Value:A\n",
      "The ASCII value of 'A' is 65\n"
     ]
    }
   ],
   "source": [
    "c = input(\"Enter a character to knowits ASCII Value:\")\n",
    "print(\"The ASCII value of '\" + c + \"' is\", ord(c))"
   ]
  },
  {
   "cell_type": "markdown",
   "id": "a0d3efe9",
   "metadata": {},
   "source": [
    "### 5. Write a Python Program to Make a Simple Calculator with 4 basic mathematical operations?"
   ]
  },
  {
   "cell_type": "code",
   "execution_count": 19,
   "id": "b7daa6d9",
   "metadata": {},
   "outputs": [],
   "source": [
    "def calculator(a,b,op):\n",
    "    if op==\"+\":\n",
    "        return (a+b), \"Addition\"\n",
    "    elif op== \"-\":\n",
    "        return (a-b),\"Subtraction\"\n",
    "    elif op == \"*\":\n",
    "        return (a*b),\"Multiplication\"\n",
    "    else: \n",
    "        return (a/b), \"Division\""
   ]
  },
  {
   "cell_type": "code",
   "execution_count": 23,
   "id": "962adfdf",
   "metadata": {},
   "outputs": [
    {
     "name": "stdout",
     "output_type": "stream",
     "text": [
      "Enter 1st number: 5\n",
      "Enter 2nd Number: 2\n",
      "Enter type of operation + - / * : /\n",
      "Division of 5 and 2 is : 2.5\n"
     ]
    }
   ],
   "source": [
    "a= int(input(\"Enter 1st number: \"))\n",
    "b=int(input(\"Enter 2nd Number: \"))\n",
    "op= input(\"Enter type of operation + - / * : \")\n",
    "x,y=calculator(a,b,op)\n",
    "print(\"{0} of {1} and {2} is : {3}\".format(y,a,b,x))"
   ]
  }
 ],
 "metadata": {
  "kernelspec": {
   "display_name": "Python 3",
   "language": "python",
   "name": "python3"
  },
  "language_info": {
   "codemirror_mode": {
    "name": "ipython",
    "version": 3
   },
   "file_extension": ".py",
   "mimetype": "text/x-python",
   "name": "python",
   "nbconvert_exporter": "python",
   "pygments_lexer": "ipython3",
   "version": "3.8.8"
  }
 },
 "nbformat": 4,
 "nbformat_minor": 5
}
